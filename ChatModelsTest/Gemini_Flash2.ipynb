{
  "nbformat": 4,
  "nbformat_minor": 0,
  "metadata": {
    "colab": {
      "provenance": [],
      "authorship_tag": "ABX9TyPrzu+YWBYYq8V4ziCXn8eb",
      "include_colab_link": true
    },
    "kernelspec": {
      "name": "python3",
      "display_name": "Python 3"
    },
    "language_info": {
      "name": "python"
    }
  },
  "cells": [
    {
      "cell_type": "markdown",
      "metadata": {
        "id": "view-in-github",
        "colab_type": "text"
      },
      "source": [
        "<a href=\"https://colab.research.google.com/github/ceggersv/ia-ejemplos-practicos/blob/main/ChatModelsTest/Gemini_Flash2.ipynb\" target=\"_parent\"><img src=\"https://colab.research.google.com/assets/colab-badge.svg\" alt=\"Open In Colab\"/></a>"
      ]
    },
    {
      "cell_type": "code",
      "execution_count": 4,
      "metadata": {
        "id": "vgfmWywbV0b9"
      },
      "outputs": [],
      "source": [
        "!pip install -q -U google-generativeai"
      ]
    },
    {
      "cell_type": "code",
      "source": [
        "import google.generativeai as genai\n",
        "\n",
        "# Configura tu clave API\n",
        "genai.configure(api_key=\"YOUR_API_KEY\") # Quita el comentario y Reemplaza YOUR_API_KEY con tu clave\n",
        "\n",
        "# Selecciona el modelo (puedes ajustar esto según el modelo específico que quieras usar)\n",
        "model = genai.GenerativeModel('gemini-2.0-flash-lite-001')\n",
        "\n",
        "# Función para interactuar con el modelo\n",
        "def chat_with_gemini(prompt):\n",
        "    \"\"\"Envía un prompt al modelo y devuelve la respuesta.\"\"\"\n",
        "    response = model.generate_content(prompt)\n",
        "    return response.text\n",
        "\n",
        "# Bucle de conversación\n",
        "print(\"¡Hola! Soy un modelo de lenguaje. Escribe 'salir' para terminar.\")\n",
        "while True:\n",
        "    user_input = input(\"Tú: \")\n",
        "    if user_input.lower() == \"salir\":\n",
        "        break\n",
        "    response = chat_with_gemini(user_input)\n",
        "    print(\"Modelo:\", response)"
      ],
      "metadata": {
        "colab": {
          "base_uri": "https://localhost:8080/",
          "height": 332
        },
        "id": "m1_5qZ48WMd0",
        "outputId": "a33e3c0b-8bae-4ac4-8f9b-7d0c33bea36a"
      },
      "execution_count": 15,
      "outputs": [
        {
          "name": "stdout",
          "output_type": "stream",
          "text": [
            "¡Hola! Soy un modelo de lenguaje. Escribe 'salir' para terminar.\n",
            "Tú: Quien fue Albert Einstein?\n",
            "Modelo: Albert Einstein fue un físico teórico alemán que desarrolló la teoría de la relatividad, uno de los dos pilares de la física moderna (junto con la mecánica cuántica). Es conocido por su famosa ecuación E=mc², que describe la equivalencia entre masa y energía. \n",
            "\n",
            "Aquí te dejo algunos puntos clave sobre su vida y logros:\n",
            "\n",
            "*   **Nacimiento y nacionalidad:** Nació en Ulm, Alemania, en 1879. Luego renunció a su ciudadanía alemana y se nacionalizó suizo, posteriormente estadounidense.\n",
            "*   **Teoría de la Relatividad:** Desarrolló la teoría de la relatividad especial (1905) y la teoría de la relatividad general (1915). Estas teorías revolucionaron nuestra comprensión del espacio, el tiempo, la gravedad y el universo.\n",
            "*   **Ecuación E=mc²:** Su ecuación más famosa, que demostró que la energía (E) es igual a la masa (m) multiplicada por la velocidad de la luz al cuadrado (c²). Esta ecuación tiene implicaciones significativas en la física nuclear y el desarrollo de la energía atómica.\n",
            "*   **Premio Nobel:** Recibió el Premio Nobel de Física en 1921 \"por sus servicios a la física teórica, y especialmente por su descubrimiento de la ley del efecto fotoeléctrico\".\n",
            "*   **Otros logros:** Hizo importantes contribuciones a la física estadística y a la mecánica cuántica.\n",
            "*   **Exilio:** Debido a su origen judío y sus ideas políticas, fue perseguido por el régimen nazi y tuvo que emigrar a Estados Unidos en 1933.\n",
            "*   **Activismo político:** Fue un pacifista y se opuso al militarismo. También fue un defensor de los derechos civiles y se involucró en la defensa de los derechos de los afroamericanos en Estados Unidos.\n",
            "*   **Fallecimiento:** Murió en Princeton, Nueva Jersey, en 1955.\n",
            "\n",
            "En resumen, Albert Einstein fue uno de los científicos más influyentes del siglo XX, y su trabajo ha tenido un impacto enorme en la ciencia y en nuestra comprensión del universo. Además de sus logros científicos, fue un humanista y defensor de la paz.\n",
            "Tú: Salir\n"
          ]
        }
      ]
    }
  ]
}
