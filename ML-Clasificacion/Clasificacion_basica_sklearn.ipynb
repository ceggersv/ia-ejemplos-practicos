{
  "nbformat": 4,
  "nbformat_minor": 0,
  "metadata": {
    "colab": {
      "provenance": [],
      "authorship_tag": "ABX9TyOTF/azWjHg/koW4+uGDEYW",
      "include_colab_link": true
    },
    "kernelspec": {
      "name": "python3",
      "display_name": "Python 3"
    },
    "language_info": {
      "name": "python"
    }
  },
  "cells": [
    {
      "cell_type": "markdown",
      "metadata": {
        "id": "view-in-github",
        "colab_type": "text"
      },
      "source": [
        "<a href=\"https://colab.research.google.com/github/ceggersv/ia-ejemplos-practicos/blob/main/ML-Clasificacion/Clasificacion_basica_sklearn.ipynb\" target=\"_parent\"><img src=\"https://colab.research.google.com/assets/colab-badge.svg\" alt=\"Open In Colab\"/></a>"
      ]
    },
    {
      "cell_type": "code",
      "execution_count": null,
      "metadata": {
        "id": "PENOUcYAS14i",
        "outputId": "d4947903-9698-45b4-f8fb-8aec1ac7cc90",
        "colab": {
          "base_uri": "https://localhost:8080/"
        }
      },
      "outputs": [
        {
          "output_type": "stream",
          "name": "stdout",
          "text": [
            "Precisión del modelo: 1.00\n",
            "Predicción para nueva flor: setosa\n"
          ]
        }
      ],
      "source": [
        "from sklearn.datasets import load_iris\n",
        "from sklearn.model_selection import train_test_split\n",
        "from sklearn.neighbors import KNeighborsClassifier\n",
        "from sklearn.metrics import accuracy_score\n",
        "\n",
        "# 1. Cargar el dataset\n",
        "iris = load_iris()\n",
        "X = iris.data      # características (longitud y ancho del sépalo y pétalo)\n",
        "y = iris.target    # etiquetas (0: setosa, 1: versicolor, 2: virginica)\n",
        "\n",
        "# 2. Dividir en conjunto de entrenamiento y prueba\n",
        "X_train, X_test, y_train, y_test = train_test_split(X, y, test_size=0.3, random_state=42)\n",
        "\n",
        "# 3. Crear el clasificador (K=3)\n",
        "knn = KNeighborsClassifier(n_neighbors=3)\n",
        "\n",
        "# 4. Entrenar el modelo\n",
        "knn.fit(X_train, y_train)\n",
        "\n",
        "# 5. Predecir etiquetas en el conjunto de prueba\n",
        "y_pred = knn.predict(X_test)\n",
        "\n",
        "# 6. Evaluar el modelo\n",
        "accuracy = accuracy_score(y_test, y_pred)\n",
        "print(f\"Precisión del modelo: {accuracy:.2f}\")\n",
        "\n",
        "# 7. Probar con un dato nuevo (opcional)\n",
        "nueva_flor = [[5.1, 3.5, 1.4, 0.2]]  # típico de 'setosa'\n",
        "prediccion = knn.predict(nueva_flor)\n",
        "print(f\"Predicción para nueva flor: {iris.target_names[prediccion[0]]}\")\n"
      ]
    }
  ]
}